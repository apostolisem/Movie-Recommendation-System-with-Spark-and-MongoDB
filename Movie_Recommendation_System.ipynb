{
 "cells": [
  {
   "cell_type": "code",
   "execution_count": 1,
   "id": "6179a6ff",
   "metadata": {},
   "outputs": [],
   "source": [
    "# load spark\n",
    "import findspark\n",
    "findspark.init('C:\\spark')\n",
    "import pyspark\n",
    "from pyspark import SparkContext, SparkConf\n",
    "conf = SparkConf().setAppName(\"movies\").setMaster(\"local\")\n",
    "sc = SparkContext(conf=conf)"
   ]
  },
  {
   "cell_type": "markdown",
   "id": "7786ef44",
   "metadata": {},
   "source": [
    "## Prepare Data"
   ]
  },
  {
   "cell_type": "code",
   "execution_count": 2,
   "id": "73d4a6cc",
   "metadata": {},
   "outputs": [],
   "source": [
    "# initiate a session with MongoDB server\n",
    "from pyspark.sql import SparkSession\n",
    "spark = SparkSession.builder.appName(\"Python Spark SQL basic example\").getOrCreate()"
   ]
  },
  {
   "cell_type": "code",
   "execution_count": 3,
   "id": "90d730e6",
   "metadata": {},
   "outputs": [],
   "source": [
    "# load the database with the Movie Ratings\n",
    "df = spark.read.format(\"mongo\").option(\"uri\",\"mongodb://127.0.0.1/netflix.movie_ratings\").load()"
   ]
  },
  {
   "cell_type": "code",
   "execution_count": 4,
   "id": "cdaddd4a",
   "metadata": {},
   "outputs": [],
   "source": [
    "# Load pyspark embedded recommender and evaluator\n",
    "from pyspark.ml.evaluation import RegressionEvaluator\n",
    "from pyspark.ml.recommendation import ALS\n",
    "from pyspark.sql import Row"
   ]
  },
  {
   "cell_type": "code",
   "execution_count": 5,
   "id": "fe851836",
   "metadata": {},
   "outputs": [],
   "source": [
    "# split the dataset to training and test\n",
    "(training, test) = df.randomSplit([0.8, 0.2])"
   ]
  },
  {
   "cell_type": "code",
   "execution_count": 6,
   "id": "606b1794",
   "metadata": {},
   "outputs": [
    {
     "name": "stdout",
     "output_type": "stream",
     "text": [
      "+-------------------+-------+------+-------+--------------------+\n",
      "|               Date|MovieID|Rating| UserID|                 _id|\n",
      "+-------------------+-------+------+-------+--------------------+\n",
      "|1999-12-09 01:00:00|     55|     1|1972971|{63bb03783c92eae3...|\n",
      "|1999-12-20 01:00:00|     46|     3| 510180|{63bb03783c92eae3...|\n",
      "|1999-12-25 01:00:00|     45|     2| 355883|{63bb03773c92eae3...|\n",
      "|2000-01-05 01:00:00|     45|     1| 589368|{63bb03773c92eae3...|\n",
      "|2000-01-05 01:00:00|     55|     3| 593765|{63bb03783c92eae3...|\n",
      "|2000-01-06 01:00:00|     18|     4|1056435|{63bb03713c92eae3...|\n",
      "|2000-01-06 01:00:00|     44|     3|1640271|{63bb03773c92eae3...|\n",
      "|2000-01-06 01:00:00|     45|     1|1269887|{63bb03773c92eae3...|\n",
      "|2000-01-06 01:00:00|     45|     2|1416849|{63bb03773c92eae3...|\n",
      "|2000-01-06 01:00:00|     55|     3|2105516|{63bb03783c92eae3...|\n",
      "|2000-01-07 01:00:00|     16|     2|1066384|{63bb03703c92eae3...|\n",
      "|2000-01-07 01:00:00|     16|     3|1356928|{63bb03703c92eae3...|\n",
      "|2000-01-07 01:00:00|     55|     3|1089692|{63bb03783c92eae3...|\n",
      "|2000-01-08 01:00:00|     16|     1|  53832|{63bb03703c92eae3...|\n",
      "|2000-01-08 01:00:00|     16|     2| 634569|{63bb03703c92eae3...|\n",
      "|2000-01-08 01:00:00|     16|     2|1587373|{63bb03703c92eae3...|\n",
      "|2000-01-08 01:00:00|     16|     2|1900617|{63bb03703c92eae3...|\n",
      "|2000-01-08 01:00:00|     16|     2|1943174|{63bb03703c92eae3...|\n",
      "|2000-01-08 01:00:00|     16|     3| 975592|{63bb03703c92eae3...|\n",
      "|2000-01-08 01:00:00|     16|     3|1308236|{63bb03703c92eae3...|\n",
      "+-------------------+-------+------+-------+--------------------+\n",
      "only showing top 20 rows\n",
      "\n"
     ]
    }
   ],
   "source": [
    "# show the first 20 rows of the training dataset\n",
    "training.show()"
   ]
  },
  {
   "cell_type": "markdown",
   "id": "9069b73b",
   "metadata": {},
   "source": [
    "## Exploratory Analysis"
   ]
  },
  {
   "cell_type": "code",
   "execution_count": 10,
   "id": "d895bccf",
   "metadata": {},
   "outputs": [],
   "source": [
    "from pyspark.sql.functions import count, countDistinct\n",
    "import matplotlib.pyplot as plt\n",
    "import pandas as pd\n",
    "import seaborn as sns; sns.set()"
   ]
  },
  {
   "cell_type": "code",
   "execution_count": 11,
   "id": "0ee9670d",
   "metadata": {},
   "outputs": [
    {
     "name": "stdout",
     "output_type": "stream",
     "text": [
      "+----------------------+\n",
      "|count(DISTINCT UserID)|\n",
      "+----------------------+\n",
      "|                480189|\n",
      "+----------------------+\n",
      "\n",
      "+-----------------------+\n",
      "|count(DISTINCT MovieID)|\n",
      "+-----------------------+\n",
      "|                  17770|\n",
      "+-----------------------+\n",
      "\n"
     ]
    }
   ],
   "source": [
    "# count the users and the movies\n",
    "df.select(countDistinct('UserID')).show()\n",
    "df.select(countDistinct('MovieID')).show()"
   ]
  },
  {
   "cell_type": "code",
   "execution_count": 12,
   "id": "ce469a49",
   "metadata": {},
   "outputs": [
    {
     "name": "stdout",
     "output_type": "stream",
     "text": [
      "root\n",
      " |-- Date: timestamp (nullable = true)\n",
      " |-- MovieID: integer (nullable = true)\n",
      " |-- Rating: integer (nullable = true)\n",
      " |-- UserID: integer (nullable = true)\n",
      " |-- _id: struct (nullable = true)\n",
      " |    |-- oid: string (nullable = true)\n",
      "\n"
     ]
    }
   ],
   "source": [
    "# print the Schema\n",
    "df.printSchema()"
   ]
  },
  {
   "cell_type": "code",
   "execution_count": 13,
   "id": "e8080fa6",
   "metadata": {},
   "outputs": [
    {
     "name": "stdout",
     "output_type": "stream",
     "text": [
      "+-------+-----------------+-----------------+------------------+\n",
      "|summary|MovieID          |Rating           |UserID            |\n",
      "+-------+-----------------+-----------------+------------------+\n",
      "|count  |100480507        |100480507        |100480507         |\n",
      "|mean   |9070.914762472286|3.604289964420661|1322488.5067232791|\n",
      "|stddev |5131.890697186037|1.085218564629562|764536.8002745794 |\n",
      "|min    |1                |1                |6                 |\n",
      "|25%    |4676             |3                |661168            |\n",
      "|50%    |9051             |4                |1318976           |\n",
      "|75%    |13636            |4                |1984378           |\n",
      "|max    |17770            |5                |2649429           |\n",
      "+-------+-----------------+-----------------+------------------+\n",
      "\n"
     ]
    }
   ],
   "source": [
    "# show a summary of the dataset\n",
    "df.summary().show(truncate=False)"
   ]
  },
  {
   "cell_type": "code",
   "execution_count": 14,
   "id": "0ea3165e",
   "metadata": {},
   "outputs": [
    {
     "data": {
      "image/png": "[encoded data removed]",
      "text/plain": [
       "<Figure size 1440x1800 with 3 Axes>"
      ]
     },
     "metadata": {},
     "output_type": "display_data"
    }
   ],
   "source": [
    "# generate plots\n",
    "cols_for_display = [\"MovieID\", \"UserID\", \"Rating\"]\n",
    "plt.figure(figsize=(20, 25))\n",
    "for i, col in enumerate(cols_for_display, 1):\n",
    "    plt.subplot(4, 2, i)\n",
    "    \n",
    "    # prepare the large columns\n",
    "    if col in [\"UserID\", \"MovieID\"]:\n",
    "        counts = df.groupBy(col).count().orderBy(\"count\").toPandas()\n",
    "        cc = pd.concat([counts.head(), counts.tail(100)], ignore_index=True)\n",
    "        \n",
    "        sns.barplot(x=col, \n",
    "                    y=\"count\", \n",
    "                    data=cc, \n",
    "                    order=cc.sort_values(\"count\")[str(col)],\n",
    "                    palette=\"crest\")\n",
    "    else:\n",
    "        sns.barplot(x=col, \n",
    "                y=\"count\", \n",
    "                data=df.groupBy(col).count().toPandas(),\n",
    "                palette=\"crest\")\n",
    "      \n",
    "    # specify labels, title and their size\n",
    "    plt.xlabel(col, size=14)\n",
    "    plt.ylabel(\"Count\", size=14)\n",
    "    plt.title(f\"{col} count\", size=18)\n",
    "    \n",
    "plt.subplots_adjust(hspace=0.3, wspace=0.25)"
   ]
  },
  {
   "cell_type": "markdown",
   "id": "a559db97",
   "metadata": {},
   "source": [
    "## Model"
   ]
  },
  {
   "cell_type": "code",
   "execution_count": 15,
   "id": "6d4a5406",
   "metadata": {},
   "outputs": [],
   "source": [
    "# build the recommendation model using ALS on the training data\n",
    "als = ALS(maxIter=5, regParam=0.01, userCol=\"UserID\", itemCol=\"MovieID\", ratingCol=\"Rating\",coldStartStrategy=\"drop\")\n",
    "model = als.fit(training)"
   ]
  },
  {
   "cell_type": "code",
   "execution_count": 16,
   "id": "db3343b0",
   "metadata": {},
   "outputs": [
    {
     "name": "stdout",
     "output_type": "stream",
     "text": [
      "RMS error: 1.8262732631389997\n"
     ]
    }
   ],
   "source": [
    "# evaluate the model\n",
    "predictions = model.transform(test)\n",
    "evaluator = RegressionEvaluator(metricName=\"rmse\", labelCol=\"Rating\",predictionCol=\"prediction\")\n",
    "rmse = evaluator.evaluate(predictions)\n",
    "print(\"RMS error: \" + str(rmse))"
   ]
  },
  {
   "cell_type": "markdown",
   "id": "b146984e",
   "metadata": {},
   "source": [
    "## Generate Recommendations"
   ]
  },
  {
   "cell_type": "code",
   "execution_count": 17,
   "id": "ff8a26bf",
   "metadata": {},
   "outputs": [],
   "source": [
    "# generate recomendation for 3 users\n",
    "users = df.select(als.getUserCol()).distinct().limit(3)\n",
    "userSubsetRecs = model.recommendForUserSubset(users, 10)"
   ]
  },
  {
   "cell_type": "code",
   "execution_count": 18,
   "id": "c73b4478",
   "metadata": {
    "scrolled": true
   },
   "outputs": [
    {
     "name": "stdout",
     "output_type": "stream",
     "text": [
      "+-------+--------------------+\n",
      "| UserID|     recommendations|\n",
      "+-------+--------------------+\n",
      "| 737709|[{46, 6.2216425},...|\n",
      "|1268699|[{7, 5.554359}, {...|\n",
      "|2152168|[{77, 6.53745}, {...|\n",
      "+-------+--------------------+\n",
      "\n"
     ]
    }
   ],
   "source": [
    "# show the recommendations\n",
    "userSubsetRecs.show()"
   ]
  },
  {
   "cell_type": "markdown",
   "id": "4112111c",
   "metadata": {},
   "source": [
    "## References\n",
    "- https://www.kaggle.com/code/laowingkin/netflix-movie-recommendation/notebook\n",
    "- https://www.mongodb.com/docs/spark-connector/master/python/read-from-mongodb/\n",
    "- https://www.mongodb.com/docs/manual/core/map-reduce/\n",
    "- https://sparkbyexamples.com/pyspark/install-pyspark-in-anaconda-jupyter-notebook/\n",
    "- https://www.datacamp.com/tutorial/installation-of-pyspark#windows-installation\n",
    "- https://www.apache.org/dyn/closer.lua/spark/spark-3.3.1/spark-3.3.1-bin-hadoop3.tgz\n",
    "- https://mvnrepository.com/artifact/org.mongodb/mongo-java-driver/3.12.11\n",
    "- https://mvnrepository.com/artifact/org.mongodb.spark/mongo-spark-connector_2.13\n",
    "- https://medium.com/@sajad1009/netflix-recommendation-system-with-pyspark-3c25121a9144\n",
    "- https://github.com/Sajad1009/Netflix-Recommendation-System-/blob/master/spark_recommendition.ipynb\n",
    "- https://www.jakobsalomonsson.com/projects/100-million-ratings-with-spark.html\n",
    "- https://github.com/JakobLS/100-million-rows-with-spark/blob/main/100-Million-Ratings-with-Spark-on-a-Mac-M1.ipynb\n",
    "- https://medium.com/@patelneha1495/recommendation-system-in-python-using-als-algorithm-and-apache-spark-27aca08eaab3"
   ]
  },
  {
   "cell_type": "code",
   "execution_count": null,
   "id": "f98ceabf",
   "metadata": {},
   "outputs": [],
   "source": []
  }
 ],
 "metadata": {
  "kernelspec": {
   "display_name": "Python 3",
   "language": "python",
   "name": "python3"
  },
  "language_info": {
   "codemirror_mode": {
    "name": "ipython",
    "version": 3
   },
   "file_extension": ".py",
   "mimetype": "text/x-python",
   "name": "python",
   "nbconvert_exporter": "python",
   "pygments_lexer": "ipython3",
   "version": "3.8.13"
  }
 },
 "nbformat": 4,
 "nbformat_minor": 5
}
